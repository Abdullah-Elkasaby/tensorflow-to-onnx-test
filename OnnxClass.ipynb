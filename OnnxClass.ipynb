{
 "cells": [
  {
   "cell_type": "code",
   "execution_count": 1,
   "metadata": {},
   "outputs": [],
   "source": [
    "import onnxruntime as ort\n",
    "import cv2\n",
    "import numpy as np\n",
    "class OnnxModelLoader:\n",
    "    def __init__(self, model_path):\n",
    "        self.model_path = model_path\n",
    "        self.load_model()\n",
    "    \n",
    "    def load_model(self):\n",
    "        # providers could be changed to CUDA if the server had a dedicated GPU\n",
    "        providers = ['CPUExecutionProvider']\n",
    "        session = ort.InferenceSession(self.model_path, providers=providers)\n",
    "        self.inference_session =  session\n",
    "\n",
    "class OnnxModelRunner:\n",
    "    def __init__(self, model):\n",
    "        self.inference_session = model.inference_session\n",
    "        self.input_name = self.inference_session.get_inputs()[0].name\n",
    "        self.label_name = self.inference_session.get_outputs()[0].name\n",
    "        \n",
    "\n",
    "    def get_img(self, img_path):\n",
    "        \n",
    "        img = cv2.imread(img_path,cv2.IMREAD_COLOR)\n",
    "        img = cv2.resize(img, (224,224), cv2.INTER_LINEAR)/225.0\n",
    "        img = img.reshape(-1, 224, 224, 3)\n",
    "        return img\n",
    "\n",
    "    def predict(self, img_path):\n",
    "        img = self.get_img(img_path)\n",
    "        pred = self.inference_session.run([self.label_name], {self.input_name:img.astype(np.float32)})[0]\n",
    "        return pred\n",
    "        # return np.argmax(pred)"
   ]
  },
  {
   "cell_type": "code",
   "execution_count": 2,
   "metadata": {},
   "outputs": [],
   "source": [
    "onnx_model = OnnxModelLoader(\"Acne.onnx\")\n",
    "onnx_running_model = OnnxModelRunner(onnx_model)"
   ]
  }
 ],
 "metadata": {
  "interpreter": {
   "hash": "87a64e438a4046ebc1450af944dbb1814fb193a8bf89283d46e798df28b42fd8"
  },
  "kernelspec": {
   "display_name": "Python 3.7.0 ('venv': venv)",
   "language": "python",
   "name": "python3"
  },
  "language_info": {
   "codemirror_mode": {
    "name": "ipython",
    "version": 3
   },
   "file_extension": ".py",
   "mimetype": "text/x-python",
   "name": "python",
   "nbconvert_exporter": "python",
   "pygments_lexer": "ipython3",
   "version": "3.7.0"
  },
  "orig_nbformat": 4
 },
 "nbformat": 4,
 "nbformat_minor": 2
}
